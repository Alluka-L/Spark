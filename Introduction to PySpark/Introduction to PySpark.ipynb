{
 "cells": [
  {
   "cell_type": "markdown",
   "metadata": {},
   "source": [
    "# Introduction to PySpark\n",
    "*Description*\n",
    "\n",
    "In this tutorial, you'll learn how to use Spark from Python! Spark is a tool for doing parallel computation with large datasets and it integrates well with Python. PySpark is the Python package that makes the magic happen. You'll use this package to work with data about flights from Portland and Seattle. You'll learn to wrangle this data and build a whole machine learning pipeline to predict whether or not flights will be delayed. Get ready to put some Spark in your Python code and dive into the world of high-performance machine learning!"
   ]
  },
  {
   "cell_type": "markdown",
   "metadata": {},
   "source": [
    "## Getting to know PySpark\n",
    "> In this chapter, you'll learn how Spark manages data and how can you read and write tables from Python.\n",
    "\n",
    "### What is Spark, anyway?\n",
    "\n",
    "Spark is a platform for cluster computing. Spark lets you spread data and computations over clusters with multiple nodes (think of each node as a separate computer). Splitting up your data makes it easier to work with very large datasets because each node only works with a small amount of data.\n",
    "\n",
    "As each node works on its own subset of the total data, it also carries out a part of the total calculations required, so that both data processing and computation are performed in parallel over the nodes in the cluster. It is a fact that parallel computation can make certain types of programming tasks much faster.\n",
    "\n",
    "However, with greater computing power comes greater complexity.\n",
    "\n",
    "Deciding whether or not Spark is the best solution for your problem takes some experience, but you can consider questions like:\n",
    "\n",
    "* Is my data too big to work with on a single machine?\n",
    "* Can my calculations be easily parallelized?\n",
    "\n",
    "### Using Spark in Python\n",
    "The first step in using Spark is connecting to a cluster.\n",
    "\n",
    "In practice, the cluster will be hosted on a remote machine that's connected to all other nodes. There will be one computer, called the master that manages splitting up the data and the computations. The master is connected to the rest of the computers in the cluster, which are called worker. The master sends the workers data and calculations to run, and they send their results back to the master.\n",
    "\n",
    "Creating the connection is as simple as creating an instance of the SparkContext class. The class constructor takes a few optional arguments that allow you to specify the attributes of the cluster you're connecting to.\n",
    "\n",
    "An object holding all these attributes can be created with the SparkConf() constructor. Take a look at the documentation for all the details!\n",
    "\n",
    "For the rest of this course you'll have a SparkContext called sc already available in your workspace.\n",
    "\n",
    "### Using DataFrames\n",
    "Spark's core data structure is the Resilient Distributed Dataset (RDD). This is a low level object that lets Spark work its magic by splitting data across multiple nodes in the cluster. However, RDDs are hard to work with directly, so in this course you'll be using the Spark DataFrame abstraction built on top of RDDs.\n",
    "\n",
    "The Spark DataFrame was designed to behave a lot like a SQL table (a table with variables in the columns and observations in the rows). Not only are they easier to understand, DataFrames are also more optimized for complicated operations than RDDs.\n",
    "\n",
    "When you start modifying and combining columns and rows of data, there are many ways to arrive at the same result, but some often take much longer than others. When using RDDs, it's up to the data scientist to figure out the right way to optimize the query, but the DataFrame implementation has much of this optimization built in!\n",
    "\n",
    "To start working with Spark DataFrames, you first have to create a ``SparkSession`` object from your ``SparkContext``. You can think of the ``SparkContext`` as your connection to the cluster and the ``SparkSession`` as your interface with that connection.\n",
    "\n",
    "Remember, for the rest of this course you'll have a ``SparkSession`` called spark available in your workspace!\n",
    "\n",
    "### Creating a SparkSession\n",
    "We've already created a ``SparkSession`` for you called spark, but what if you're not sure there already is one? Creating multiple `SparkSessions` and `SparkContexts` can cause issues, so it's best practice to use the` SparkSession.builder.getOrCreate()` method. This returns an existing `SparkSession` if there's already one in the environment, or creates a new one if necessary!"
   ]
  },
  {
   "cell_type": "code",
   "execution_count": 3,
   "metadata": {},
   "outputs": [
    {
     "name": "stdout",
     "output_type": "stream",
     "text": [
      "<pyspark.sql.session.SparkSession object at 0x119949510>\n"
     ]
    }
   ],
   "source": [
    "# Import SparkSession from pyspark.sql\n",
    "from pyspark.sql import SparkSession\n",
    "\n",
    "# Create my_spark\n",
    "my_spark = SparkSession.builder.getOrCreate()\n",
    "\n",
    "# Print my_spark\n",
    "print(my_spark)"
   ]
  },
  {
   "cell_type": "markdown",
   "metadata": {},
   "source": [
    "### Viewing tables\n",
    "Once you've created a `SparkSession`, you can start poking around to see what data is in your cluster!\n",
    "\n",
    "Your `SparkSession` has an attribute called `catalog` which lists all the data inside the cluster. This attribute has a few methods for extracting different pieces of information.\n",
    "\n",
    "One of the most useful is the `.listTables()` method, which returns the names of all the tables in your cluster as a list."
   ]
  },
  {
   "cell_type": "code",
   "execution_count": 19,
   "metadata": {},
   "outputs": [
    {
     "name": "stdout",
     "output_type": "stream",
     "text": [
      "[Table(name='temp', database=None, description=None, tableType='TEMPORARY', isTemporary=True)]\n"
     ]
    }
   ],
   "source": [
    "# Print the tables in the catalog\n",
    "print(my_spark.catalog.listTables())"
   ]
  },
  {
   "cell_type": "markdown",
   "metadata": {},
   "source": [
    "### Are you query-ious?\n",
    "One of the advantages of the DataFrame interface is that you can run SQL queries on the tables in your Spark cluster.\n",
    "\n",
    "As you saw in the last exercise, one of the tables in your cluster is the flights table. This table contains a row for every flight that left Portland International Airport (PDX) or Seattle-Tacoma International Airport (SEA) in 2014 and 2015.\n",
    "\n",
    "Running a query on this table is as easy as using the `.sql()` method on your `SparkSession`. This method takes a string containing the query and returns a DataFrame with the results!"
   ]
  },
  {
   "cell_type": "code",
   "execution_count": 20,
   "metadata": {
    "scrolled": true
   },
   "outputs": [
    {
     "name": "stdout",
     "output_type": "stream",
     "text": [
      "+----+-----+---+--------+---------+--------+---------+-------+-------+------+------+----+--------+--------+----+------+\n",
      "|year|month|day|dep_time|dep_delay|arr_time|arr_delay|carrier|tailnum|flight|origin|dest|air_time|distance|hour|minute|\n",
      "+----+-----+---+--------+---------+--------+---------+-------+-------+------+------+----+--------+--------+----+------+\n",
      "|2014|   12|  8|   658.0|     -7.0|   935.0|     -5.0|     VX| N846VA|  1780|   SEA| LAX|   132.0|     954| 6.0|  58.0|\n",
      "|2014|    1| 22|  1040.0|      5.0|  1505.0|      5.0|     AS| N559AS|   851|   SEA| HNL|   360.0|    2677|10.0|  40.0|\n",
      "|2014|    3|  9|  1443.0|     -2.0|  1652.0|      2.0|     VX| N847VA|   755|   SEA| SFO|   111.0|     679|14.0|  43.0|\n",
      "|2014|    4|  9|  1705.0|     45.0|  1839.0|     34.0|     WN| N360SW|   344|   PDX| SJC|    83.0|     569|17.0|   5.0|\n",
      "|2014|    3|  9|   754.0|     -1.0|  1015.0|      1.0|     AS| N612AS|   522|   SEA| BUR|   127.0|     937| 7.0|  54.0|\n",
      "|2014|    1| 15|  1037.0|      7.0|  1352.0|      2.0|     WN| N646SW|    48|   PDX| DEN|   121.0|     991|10.0|  37.0|\n",
      "|2014|    7|  2|   847.0|     42.0|  1041.0|     51.0|     WN| N422WN|  1520|   PDX| OAK|    90.0|     543| 8.0|  47.0|\n",
      "|2014|    5| 12|  1655.0|     -5.0|  1842.0|    -18.0|     VX| N361VA|   755|   SEA| SFO|    98.0|     679|16.0|  55.0|\n",
      "|2014|    4| 19|  1236.0|     -4.0|  1508.0|     -7.0|     AS| N309AS|   490|   SEA| SAN|   135.0|    1050|12.0|  36.0|\n",
      "|2014|   11| 19|  1812.0|     -3.0|  2352.0|     -4.0|     AS| N564AS|    26|   SEA| ORD|   198.0|    1721|18.0|  12.0|\n",
      "+----+-----+---+--------+---------+--------+---------+-------+-------+------+------+----+--------+--------+----+------+\n",
      "\n"
     ]
    }
   ],
   "source": [
    "# Don't change this query\n",
    "query = \"FROM temp SELECT * LIMIT 10\"\n",
    "\n",
    "# Get the first 10 rows of flights\n",
    "flights10 = my_spark.sql(query)\n",
    "\n",
    "# Show the results\n",
    "flights10.show()"
   ]
  },
  {
   "cell_type": "markdown",
   "metadata": {},
   "source": [
    "### Pandafy a Spark DataFrame\n",
    "Suppose you've run a query on your huge dataset and aggregated it down to something a little more manageable.\n",
    "\n",
    "Sometimes it makes sense to then take that table and work with it locally using a tool like pandas. Spark DataFrames make that easy with the `.toPandas()` method. Calling this method on a Spark DataFrame returns the corresponding pandas DataFrame. It's as simple as that!\n",
    "\n",
    "This time the query counts the number of flights to each airport from SEA and PDX."
   ]
  },
  {
   "cell_type": "code",
   "execution_count": 22,
   "metadata": {},
   "outputs": [
    {
     "name": "stdout",
     "output_type": "stream",
     "text": [
      "  origin dest    N\n",
      "0    SEA  RNO    8\n",
      "1    SEA  DTW   98\n",
      "2    SEA  CLE    2\n",
      "3    SEA  LAX  449\n",
      "4    PDX  SEA  138\n"
     ]
    }
   ],
   "source": [
    "# Don't change this query\n",
    "query = \"SELECT origin, dest, COUNT(*) as N FROM temp GROUP BY origin, dest\"\n",
    "\n",
    "# Run the query\n",
    "flight_counts = my_spark.sql(query)\n",
    "\n",
    "# Convert the results to a pandas DataFrame\n",
    "pd_counts = flight_counts.toPandas()\n",
    "\n",
    "# Print the head of pd_counts\n",
    "print(pd_counts.head())"
   ]
  },
  {
   "cell_type": "markdown",
   "metadata": {},
   "source": [
    "### Put some Spark in your data\n",
    "In the last exercise, you saw how to move data from Spark to pandas. However, maybe you want to go the other direction, and put a pandas DataFrame into a Spark cluster! The SparkSession class has a method for this as well.\n",
    "\n",
    "The `.createDataFrame()` method takes a pandas DataFrame and returns a Spark DataFrame.\n",
    "\n",
    "The output of this method is stored locally, not in the SparkSession catalog. This means that you can use all the Spark DataFrame methods on it, but you can't access the data in other contexts.\n",
    "\n",
    "For example, a SQL query (using the `.sql()` method) that references your DataFrame will throw an error. To access the data in this way, you have to save it as a temporary table.\n",
    "\n",
    "You can do this using the `.createTempView()` Spark DataFrame method, which takes as its only argument the name of the temporary table you'd like to register. This method registers the DataFrame as a table in the catalog, but as this table is temporary, it can only be accessed from the specific SparkSession used to create the Spark DataFrame.\n",
    "\n",
    "There is also the method .createOrReplaceTempView(). This safely creates a new temporary table if nothing was there before, or updates an existing table if one was already defined. You'll use this method to avoid running into problems with duplicate tables.\n",
    "\n",
    "Check out the diagram to see all the different ways your Spark data structures interact with each other."
   ]
  },
  {
   "cell_type": "code",
   "execution_count": 8,
   "metadata": {},
   "outputs": [
    {
     "data": {
      "text/html": [
       "<div>\n",
       "<style scoped>\n",
       "    .dataframe tbody tr th:only-of-type {\n",
       "        vertical-align: middle;\n",
       "    }\n",
       "\n",
       "    .dataframe tbody tr th {\n",
       "        vertical-align: top;\n",
       "    }\n",
       "\n",
       "    .dataframe thead th {\n",
       "        text-align: right;\n",
       "    }\n",
       "</style>\n",
       "<table border=\"1\" class=\"dataframe\">\n",
       "  <thead>\n",
       "    <tr style=\"text-align: right;\">\n",
       "      <th></th>\n",
       "      <th>year</th>\n",
       "      <th>month</th>\n",
       "      <th>day</th>\n",
       "      <th>dep_time</th>\n",
       "      <th>dep_delay</th>\n",
       "      <th>arr_time</th>\n",
       "      <th>arr_delay</th>\n",
       "      <th>carrier</th>\n",
       "      <th>tailnum</th>\n",
       "      <th>flight</th>\n",
       "      <th>origin</th>\n",
       "      <th>dest</th>\n",
       "      <th>air_time</th>\n",
       "      <th>distance</th>\n",
       "      <th>hour</th>\n",
       "      <th>minute</th>\n",
       "    </tr>\n",
       "  </thead>\n",
       "  <tbody>\n",
       "    <tr>\n",
       "      <td>0</td>\n",
       "      <td>2014</td>\n",
       "      <td>12</td>\n",
       "      <td>8</td>\n",
       "      <td>658.0</td>\n",
       "      <td>-7.0</td>\n",
       "      <td>935.0</td>\n",
       "      <td>-5.0</td>\n",
       "      <td>VX</td>\n",
       "      <td>N846VA</td>\n",
       "      <td>1780</td>\n",
       "      <td>SEA</td>\n",
       "      <td>LAX</td>\n",
       "      <td>132.0</td>\n",
       "      <td>954</td>\n",
       "      <td>6.0</td>\n",
       "      <td>58.0</td>\n",
       "    </tr>\n",
       "    <tr>\n",
       "      <td>1</td>\n",
       "      <td>2014</td>\n",
       "      <td>1</td>\n",
       "      <td>22</td>\n",
       "      <td>1040.0</td>\n",
       "      <td>5.0</td>\n",
       "      <td>1505.0</td>\n",
       "      <td>5.0</td>\n",
       "      <td>AS</td>\n",
       "      <td>N559AS</td>\n",
       "      <td>851</td>\n",
       "      <td>SEA</td>\n",
       "      <td>HNL</td>\n",
       "      <td>360.0</td>\n",
       "      <td>2677</td>\n",
       "      <td>10.0</td>\n",
       "      <td>40.0</td>\n",
       "    </tr>\n",
       "    <tr>\n",
       "      <td>2</td>\n",
       "      <td>2014</td>\n",
       "      <td>3</td>\n",
       "      <td>9</td>\n",
       "      <td>1443.0</td>\n",
       "      <td>-2.0</td>\n",
       "      <td>1652.0</td>\n",
       "      <td>2.0</td>\n",
       "      <td>VX</td>\n",
       "      <td>N847VA</td>\n",
       "      <td>755</td>\n",
       "      <td>SEA</td>\n",
       "      <td>SFO</td>\n",
       "      <td>111.0</td>\n",
       "      <td>679</td>\n",
       "      <td>14.0</td>\n",
       "      <td>43.0</td>\n",
       "    </tr>\n",
       "    <tr>\n",
       "      <td>3</td>\n",
       "      <td>2014</td>\n",
       "      <td>4</td>\n",
       "      <td>9</td>\n",
       "      <td>1705.0</td>\n",
       "      <td>45.0</td>\n",
       "      <td>1839.0</td>\n",
       "      <td>34.0</td>\n",
       "      <td>WN</td>\n",
       "      <td>N360SW</td>\n",
       "      <td>344</td>\n",
       "      <td>PDX</td>\n",
       "      <td>SJC</td>\n",
       "      <td>83.0</td>\n",
       "      <td>569</td>\n",
       "      <td>17.0</td>\n",
       "      <td>5.0</td>\n",
       "    </tr>\n",
       "    <tr>\n",
       "      <td>4</td>\n",
       "      <td>2014</td>\n",
       "      <td>3</td>\n",
       "      <td>9</td>\n",
       "      <td>754.0</td>\n",
       "      <td>-1.0</td>\n",
       "      <td>1015.0</td>\n",
       "      <td>1.0</td>\n",
       "      <td>AS</td>\n",
       "      <td>N612AS</td>\n",
       "      <td>522</td>\n",
       "      <td>SEA</td>\n",
       "      <td>BUR</td>\n",
       "      <td>127.0</td>\n",
       "      <td>937</td>\n",
       "      <td>7.0</td>\n",
       "      <td>54.0</td>\n",
       "    </tr>\n",
       "  </tbody>\n",
       "</table>\n",
       "</div>"
      ],
      "text/plain": [
       "   year  month  day  dep_time  dep_delay  arr_time  arr_delay carrier tailnum  \\\n",
       "0  2014     12    8     658.0       -7.0     935.0       -5.0      VX  N846VA   \n",
       "1  2014      1   22    1040.0        5.0    1505.0        5.0      AS  N559AS   \n",
       "2  2014      3    9    1443.0       -2.0    1652.0        2.0      VX  N847VA   \n",
       "3  2014      4    9    1705.0       45.0    1839.0       34.0      WN  N360SW   \n",
       "4  2014      3    9     754.0       -1.0    1015.0        1.0      AS  N612AS   \n",
       "\n",
       "   flight origin dest  air_time  distance  hour  minute  \n",
       "0    1780    SEA  LAX     132.0       954   6.0    58.0  \n",
       "1     851    SEA  HNL     360.0      2677  10.0    40.0  \n",
       "2     755    SEA  SFO     111.0       679  14.0    43.0  \n",
       "3     344    PDX  SJC      83.0       569  17.0     5.0  \n",
       "4     522    SEA  BUR     127.0       937   7.0    54.0  "
      ]
     },
     "execution_count": 8,
     "metadata": {},
     "output_type": "execute_result"
    }
   ],
   "source": [
    "import pandas as pd\n",
    "pd_temp = pd.read_csv('data/flights_small.csv')\n",
    "pd_temp.dropna(inplace=True, axis=0)\n",
    "pd_temp.head()"
   ]
  },
  {
   "cell_type": "code",
   "execution_count": 16,
   "metadata": {},
   "outputs": [
    {
     "name": "stdout",
     "output_type": "stream",
     "text": [
      "[]\n"
     ]
    }
   ],
   "source": [
    "# Create spark_temp from pd_temp\n",
    "spark_temp = my_spark.createDataFrame(pd_temp)\n",
    "\n",
    "# Examine the tables in the catalog\n",
    "print(my_spark.catalog.listTables())"
   ]
  },
  {
   "cell_type": "code",
   "execution_count": 18,
   "metadata": {},
   "outputs": [
    {
     "name": "stdout",
     "output_type": "stream",
     "text": [
      "[Table(name='temp', database=None, description=None, tableType='TEMPORARY', isTemporary=True)]\n"
     ]
    }
   ],
   "source": [
    "# Add spark_temp to the catalog\n",
    "spark_temp.createOrReplaceTempView('temp')\n",
    "\n",
    "# Examine the tables in the catalog again\n",
    "print(my_spark.catalog.listTables())"
   ]
  },
  {
   "cell_type": "markdown",
   "metadata": {},
   "source": [
    "### Dropping the middle man\n",
    "Now you know how to put data into Spark via pandas, but you're probably wondering why deal with pandas at all? Wouldn't it be easier to just read a text file straight into Spark? Of course it would!\n",
    "\n",
    "Luckily, your SparkSession has a `.read` attribute which has several methods for reading different data sources into Spark DataFrames. Using these you can create a DataFrame from a .csv file just like with regular pandas DataFrames!\n",
    "\n",
    "The variable file_path is a string with the path to the file airports.csv. This file contains information about different airports all over the world."
   ]
  },
  {
   "cell_type": "code",
   "execution_count": 24,
   "metadata": {},
   "outputs": [
    {
     "name": "stdout",
     "output_type": "stream",
     "text": [
      "+---+--------------------+----------------+-----------------+----+---+---+\n",
      "|faa|                name|             lat|              lon| alt| tz|dst|\n",
      "+---+--------------------+----------------+-----------------+----+---+---+\n",
      "|04G|   Lansdowne Airport|      41.1304722|      -80.6195833|1044| -5|  A|\n",
      "|06A|Moton Field Munic...|      32.4605722|      -85.6800278| 264| -5|  A|\n",
      "|06C| Schaumburg Regional|      41.9893408|      -88.1012428| 801| -6|  A|\n",
      "|06N|     Randall Airport|       41.431912|      -74.3915611| 523| -5|  A|\n",
      "|09J|Jekyll Island Air...|      31.0744722|      -81.4277778|  11| -4|  A|\n",
      "|0A9|Elizabethton Muni...|      36.3712222|      -82.1734167|1593| -4|  A|\n",
      "|0G6|Williams County A...|      41.4673056|      -84.5067778| 730| -5|  A|\n",
      "|0G7|Finger Lakes Regi...|      42.8835647|      -76.7812318| 492| -5|  A|\n",
      "|0P2|Shoestring Aviati...|      39.7948244|      -76.6471914|1000| -5|  U|\n",
      "|0S9|Jefferson County ...|      48.0538086|     -122.8106436| 108| -8|  A|\n",
      "|0W3|Harford County Ai...|      39.5668378|      -76.2024028| 409| -5|  A|\n",
      "|10C|  Galt Field Airport|      42.4028889|      -88.3751111| 875| -6|  U|\n",
      "|17G|Port Bucyrus-Craw...|      40.7815556|      -82.9748056|1003| -5|  A|\n",
      "|19A|Jackson County Ai...|      34.1758638|      -83.5615972| 951| -4|  U|\n",
      "|1A3|Martin Campbell F...|      35.0158056|      -84.3468333|1789| -4|  A|\n",
      "|1B9| Mansfield Municipal|      42.0001331|      -71.1967714| 122| -5|  A|\n",
      "|1C9|Frazier Lake Airpark|54.0133333333333|-124.768333333333| 152| -8|  A|\n",
      "|1CS|Clow Internationa...|      41.6959744|      -88.1292306| 670| -6|  U|\n",
      "|1G3|  Kent State Airport|      41.1513889|      -81.4151111|1134| -4|  A|\n",
      "|1OH|     Fortman Airport|      40.5553253|      -84.3866186| 885| -5|  U|\n",
      "+---+--------------------+----------------+-----------------+----+---+---+\n",
      "only showing top 20 rows\n",
      "\n"
     ]
    }
   ],
   "source": [
    "# Don't change this file path\n",
    "file_path = \"data/airports.csv\"\n",
    "\n",
    "# Read in the airports data\n",
    "airports = my_spark.read.csv(file_path, header=True)\n",
    "\n",
    "# Show the data\n",
    "airports.show()"
   ]
  },
  {
   "cell_type": "code",
   "execution_count": 26,
   "metadata": {},
   "outputs": [
    {
     "name": "stdout",
     "output_type": "stream",
     "text": [
      "[Table(name='airports', database=None, description=None, tableType='TEMPORARY', isTemporary=True), Table(name='temp', database=None, description=None, tableType='TEMPORARY', isTemporary=True)]\n"
     ]
    }
   ],
   "source": [
    "# Add spark_temp to the catalog\n",
    "airports.createOrReplaceTempView('airports')\n",
    "\n",
    "# Examine the tables in the catalog again\n",
    "print(my_spark.catalog.listTables())"
   ]
  },
  {
   "cell_type": "markdown",
   "metadata": {},
   "source": [
    "## Manipulating data\n",
    "> In this chapter, you'll learn about the pyspark.sql module, which provides optimized data queries to your Spark session."
   ]
  },
  {
   "cell_type": "markdown",
   "metadata": {},
   "source": [
    "### Creating columns\n",
    "In this chapter, you'll learn how to use the methods defined by Spark's DataFrame class to perform common data operations.\n",
    "\n",
    "Let's look at performing column-wise operations. In Spark you can do this using the `.withColumn()` method, which takes two arguments. First, a string with the name of your new column, and second the new column itself.\n",
    "\n",
    "The new column must be an object of class `Column`. Creating one of these is as easy as extracting a column from your DataFrame using `df.colName`.\n",
    "\n",
    "Updating a Spark DataFrame is somewhat different than working in pandas because the Spark DataFrame is *immutable*. This means that it can't be changed, and so columns can't be updated in place.\n",
    "\n",
    "Thus, all these methods return a new DataFrame. To overwrite the original DataFrame you must reassign the returned DataFrame using the method like so:\n",
    "```python\n",
    "df = df.withColumn(\"newCol\", df.oldCol + 1)\n",
    "```\n",
    "\n",
    "The above code creates a DataFrame with the same columns as df plus a new column, `newCol`, where every entry is equal to the corresponding entry from `oldCol`, plus one.\n",
    "\n",
    "To overwrite an existing column, just pass the name of the column as the first argument!"
   ]
  },
  {
   "cell_type": "code",
   "execution_count": 48,
   "metadata": {},
   "outputs": [
    {
     "name": "stdout",
     "output_type": "stream",
     "text": [
      "[Table(name='airports', database=None, description=None, tableType='TEMPORARY', isTemporary=True), Table(name='temp', database=None, description=None, tableType='TEMPORARY', isTemporary=True)]\n"
     ]
    }
   ],
   "source": [
    "print(my_spark.catalog.listTables())"
   ]
  },
  {
   "cell_type": "code",
   "execution_count": 50,
   "metadata": {},
   "outputs": [
    {
     "name": "stdout",
     "output_type": "stream",
     "text": [
      "+----+-----+---+--------+---------+--------+---------+-------+-------+------+------+----+--------+--------+----+------+\n",
      "|year|month|day|dep_time|dep_delay|arr_time|arr_delay|carrier|tailnum|flight|origin|dest|air_time|distance|hour|minute|\n",
      "+----+-----+---+--------+---------+--------+---------+-------+-------+------+------+----+--------+--------+----+------+\n",
      "|2014|   12|  8|   658.0|     -7.0|   935.0|     -5.0|     VX| N846VA|  1780|   SEA| LAX|   132.0|     954| 6.0|  58.0|\n",
      "|2014|    1| 22|  1040.0|      5.0|  1505.0|      5.0|     AS| N559AS|   851|   SEA| HNL|   360.0|    2677|10.0|  40.0|\n",
      "|2014|    3|  9|  1443.0|     -2.0|  1652.0|      2.0|     VX| N847VA|   755|   SEA| SFO|   111.0|     679|14.0|  43.0|\n",
      "|2014|    4|  9|  1705.0|     45.0|  1839.0|     34.0|     WN| N360SW|   344|   PDX| SJC|    83.0|     569|17.0|   5.0|\n",
      "|2014|    3|  9|   754.0|     -1.0|  1015.0|      1.0|     AS| N612AS|   522|   SEA| BUR|   127.0|     937| 7.0|  54.0|\n",
      "|2014|    1| 15|  1037.0|      7.0|  1352.0|      2.0|     WN| N646SW|    48|   PDX| DEN|   121.0|     991|10.0|  37.0|\n",
      "|2014|    7|  2|   847.0|     42.0|  1041.0|     51.0|     WN| N422WN|  1520|   PDX| OAK|    90.0|     543| 8.0|  47.0|\n",
      "|2014|    5| 12|  1655.0|     -5.0|  1842.0|    -18.0|     VX| N361VA|   755|   SEA| SFO|    98.0|     679|16.0|  55.0|\n",
      "|2014|    4| 19|  1236.0|     -4.0|  1508.0|     -7.0|     AS| N309AS|   490|   SEA| SAN|   135.0|    1050|12.0|  36.0|\n",
      "|2014|   11| 19|  1812.0|     -3.0|  2352.0|     -4.0|     AS| N564AS|    26|   SEA| ORD|   198.0|    1721|18.0|  12.0|\n",
      "|2014|   11|  8|  1653.0|     -2.0|  1924.0|     -1.0|     AS| N323AS|   448|   SEA| LAX|   130.0|     954|16.0|  53.0|\n",
      "|2014|    8|  3|  1120.0|      0.0|  1415.0|      2.0|     AS| N305AS|   656|   SEA| PHX|   154.0|    1107|11.0|  20.0|\n",
      "|2014|   10| 30|   811.0|     21.0|  1038.0|     29.0|     AS| N433AS|   608|   SEA| LAS|   127.0|     867| 8.0|  11.0|\n",
      "|2014|   11| 12|  2346.0|     -4.0|   217.0|    -28.0|     AS| N765AS|   121|   SEA| ANC|   183.0|    1448|23.0|  46.0|\n",
      "|2014|   10| 31|  1314.0|     89.0|  1544.0|    111.0|     AS| N713AS|   306|   SEA| SFO|   129.0|     679|13.0|  14.0|\n",
      "|2014|    1| 29|  2009.0|      3.0|  2159.0|      9.0|     UA| N27205|  1458|   PDX| SFO|    90.0|     550|20.0|   9.0|\n",
      "|2014|   12| 17|  2015.0|     50.0|  2150.0|     41.0|     AS| N626AS|   368|   SEA| SMF|    76.0|     605|20.0|  15.0|\n",
      "|2014|    8| 11|  1017.0|     -3.0|  1613.0|     -7.0|     WN| N8634A|   827|   SEA| MDW|   216.0|    1733|10.0|  17.0|\n",
      "|2014|    1| 13|  2156.0|     -9.0|   607.0|    -15.0|     AS| N597AS|    24|   SEA| BOS|   290.0|    2496|21.0|  56.0|\n",
      "|2014|    6|  5|  1733.0|    -12.0|  1945.0|    -10.0|     OO| N215AG|  3488|   PDX| BUR|   111.0|     817|17.0|  33.0|\n",
      "+----+-----+---+--------+---------+--------+---------+-------+-------+------+------+----+--------+--------+----+------+\n",
      "only showing top 20 rows\n",
      "\n"
     ]
    }
   ],
   "source": [
    "# Create the DataFrame flights\n",
    "flights = my_spark.table('temp')\n",
    "\n",
    "# Show the head\n",
    "flights.show()\n",
    "\n",
    "# Add duration_hrs\n",
    "flights = flights.withColumn('duration_hrs', flights.air_time/60)"
   ]
  },
  {
   "cell_type": "code",
   "execution_count": 52,
   "metadata": {},
   "outputs": [
    {
     "name": "stdout",
     "output_type": "stream",
     "text": [
      "+----+-----+---+--------+---------+--------+---------+-------+-------+------+------+----+--------+--------+----+------+------------------+\n",
      "|year|month|day|dep_time|dep_delay|arr_time|arr_delay|carrier|tailnum|flight|origin|dest|air_time|distance|hour|minute|      duration_hrs|\n",
      "+----+-----+---+--------+---------+--------+---------+-------+-------+------+------+----+--------+--------+----+------+------------------+\n",
      "|2014|   12|  8|   658.0|     -7.0|   935.0|     -5.0|     VX| N846VA|  1780|   SEA| LAX|   132.0|     954| 6.0|  58.0|               2.2|\n",
      "|2014|    1| 22|  1040.0|      5.0|  1505.0|      5.0|     AS| N559AS|   851|   SEA| HNL|   360.0|    2677|10.0|  40.0|               6.0|\n",
      "|2014|    3|  9|  1443.0|     -2.0|  1652.0|      2.0|     VX| N847VA|   755|   SEA| SFO|   111.0|     679|14.0|  43.0|              1.85|\n",
      "|2014|    4|  9|  1705.0|     45.0|  1839.0|     34.0|     WN| N360SW|   344|   PDX| SJC|    83.0|     569|17.0|   5.0|1.3833333333333333|\n",
      "|2014|    3|  9|   754.0|     -1.0|  1015.0|      1.0|     AS| N612AS|   522|   SEA| BUR|   127.0|     937| 7.0|  54.0|2.1166666666666667|\n",
      "|2014|    1| 15|  1037.0|      7.0|  1352.0|      2.0|     WN| N646SW|    48|   PDX| DEN|   121.0|     991|10.0|  37.0|2.0166666666666666|\n",
      "|2014|    7|  2|   847.0|     42.0|  1041.0|     51.0|     WN| N422WN|  1520|   PDX| OAK|    90.0|     543| 8.0|  47.0|               1.5|\n",
      "|2014|    5| 12|  1655.0|     -5.0|  1842.0|    -18.0|     VX| N361VA|   755|   SEA| SFO|    98.0|     679|16.0|  55.0|1.6333333333333333|\n",
      "|2014|    4| 19|  1236.0|     -4.0|  1508.0|     -7.0|     AS| N309AS|   490|   SEA| SAN|   135.0|    1050|12.0|  36.0|              2.25|\n",
      "|2014|   11| 19|  1812.0|     -3.0|  2352.0|     -4.0|     AS| N564AS|    26|   SEA| ORD|   198.0|    1721|18.0|  12.0|               3.3|\n",
      "|2014|   11|  8|  1653.0|     -2.0|  1924.0|     -1.0|     AS| N323AS|   448|   SEA| LAX|   130.0|     954|16.0|  53.0|2.1666666666666665|\n",
      "|2014|    8|  3|  1120.0|      0.0|  1415.0|      2.0|     AS| N305AS|   656|   SEA| PHX|   154.0|    1107|11.0|  20.0| 2.566666666666667|\n",
      "|2014|   10| 30|   811.0|     21.0|  1038.0|     29.0|     AS| N433AS|   608|   SEA| LAS|   127.0|     867| 8.0|  11.0|2.1166666666666667|\n",
      "|2014|   11| 12|  2346.0|     -4.0|   217.0|    -28.0|     AS| N765AS|   121|   SEA| ANC|   183.0|    1448|23.0|  46.0|              3.05|\n",
      "|2014|   10| 31|  1314.0|     89.0|  1544.0|    111.0|     AS| N713AS|   306|   SEA| SFO|   129.0|     679|13.0|  14.0|              2.15|\n",
      "|2014|    1| 29|  2009.0|      3.0|  2159.0|      9.0|     UA| N27205|  1458|   PDX| SFO|    90.0|     550|20.0|   9.0|               1.5|\n",
      "|2014|   12| 17|  2015.0|     50.0|  2150.0|     41.0|     AS| N626AS|   368|   SEA| SMF|    76.0|     605|20.0|  15.0|1.2666666666666666|\n",
      "|2014|    8| 11|  1017.0|     -3.0|  1613.0|     -7.0|     WN| N8634A|   827|   SEA| MDW|   216.0|    1733|10.0|  17.0|               3.6|\n",
      "|2014|    1| 13|  2156.0|     -9.0|   607.0|    -15.0|     AS| N597AS|    24|   SEA| BOS|   290.0|    2496|21.0|  56.0| 4.833333333333333|\n",
      "|2014|    6|  5|  1733.0|    -12.0|  1945.0|    -10.0|     OO| N215AG|  3488|   PDX| BUR|   111.0|     817|17.0|  33.0|              1.85|\n",
      "+----+-----+---+--------+---------+--------+---------+-------+-------+------+------+----+--------+--------+----+------+------------------+\n",
      "only showing top 20 rows\n",
      "\n"
     ]
    }
   ],
   "source": [
    "flights.show()"
   ]
  },
  {
   "cell_type": "markdown",
   "metadata": {},
   "source": [
    "### SQL in a nutshell\n",
    "As you move forward, it will help to have a basic understanding of SQL. A more in depth look can be found here.\n",
    "\n",
    "A SQL query returns a table derived from one or more tables contained in a database.\n",
    "\n",
    "Every SQL query is made up of commands that tell the database what you want to do with the data. The two commands that every query has to contain are `SELECT` and `FROM`.\n",
    "\n",
    "The `SELECT` command is followed by the columns you want in the resulting table.\n",
    "\n",
    "The `FROM` command is followed by the name of the table that contains those columns. The minimal SQL query is:\n",
    "\n",
    "```SQL\n",
    "SELECT * FROM my_table;\n",
    "```\n",
    "\n",
    "The * selects all columns, so this returns the entire table named my_table.\n",
    "\n",
    "Similar to `.withColumn()`, you can do column-wise computations within a SELECT statement. For example,\n",
    "\n",
    "```SQL\n",
    "SELECT origin, dest, air_time / 60 FROM flights;\n",
    "```\n",
    "\n",
    "returns a table with the origin, destination, and duration in hours for each flight.\n",
    "\n",
    "Another commonly used command is `WHERE`. This command filters the rows of the table based on some logical condition you specify. The resulting table contains the rows where your condition is true. For example, if you had a table of students and grades you could do:\n",
    "\n",
    "```SQL\n",
    "SELECT * FROM students\n",
    "WHERE grade = 'A';\n",
    "```\n",
    "\n",
    "to select all the columns and the rows containing information about students who got As."
   ]
  },
  {
   "cell_type": "markdown",
   "metadata": {},
   "source": [
    "### SQL in a nutshell (2)\n",
    "Another common database task is aggregation. That is, reducing your data by breaking it into chunks and summarizing each chunk.\n",
    "\n",
    "This is done in SQL using the `GROUP BY` command. This command breaks your data into groups and applies a function from your `SELECT` statement to each group.\n",
    "\n",
    "For example, if you wanted to count the number of flights from each of two origin destinations, you could use the query\n",
    "\n",
    "```SQL\n",
    "SELECT COUNT(*) FROM flights\n",
    "GROUP BY origin;\n",
    "```\n",
    "\n",
    "GROUP BY origin tells SQL that you want the output to have a row for each unique value of the origin column. The SELECT statement selects the values you want to populate each of the columns. Here, we want to `COUNT()` every row in each of the groups.\n",
    "\n",
    "It's possible to `GROUP BY` more than one column. When you do this, the resulting table has a row for every combination of the unique values in each column. The following query counts the number of flights from SEA and PDX to every destination airport:\n",
    "\n",
    "```SQL\n",
    "SELECT origin, dest, COUNT(*) FROM flights\n",
    "GROUP BY origin, dest;\n",
    "```\n",
    "\n",
    "The output will have a row for every combination of the values in origin and dest (i.e. a row listing each origin and destination that a flight flew to). There will also be a column with the COUNT() of all the rows in each group."
   ]
  },
  {
   "cell_type": "markdown",
   "metadata": {},
   "source": [
    "### Filtering Data\n",
    "Now that you have a bit of SQL know-how under your belt, it's easier to talk about the analogous operations using Spark DataFrames.\n",
    "\n",
    "Let's take a look at the `.filter()` method. As you might suspect, this is the Spark counterpart of SQL's WHERE clause. The `.filter()` method takes either an expression that would follow the WHERE clause of a SQL expression as a string, or a Spark Column of boolean (True/False) values.\n",
    "\n",
    "For example, the following two expressions will produce the same output:\n",
    "```python\n",
    "flights.filter(\"air_time > 120\").show()\n",
    "flights.filter(flights.air_time > 120).show()\n",
    "```\n",
    "\n",
    "Notice that in the first case, we pass a string to `.filter()`. In SQL, we would write this filtering task as\n",
    "\n",
    "```SQL\n",
    "SELECT * FROM flights WHERE air_time > 120;\n",
    "```\n",
    "\n",
    "Spark's `.filter()` can accept any expression that could go in the `WHERE` clause of a SQL query (in this case, `\"air_time > 120\"`), as long as it is passed as a string. Notice that in this case, we do not reference the name of the table in the string -- as we wouldn't in the SQL request.\n",
    "\n",
    "In the second case, we actually pass a column of boolean values to `.filter()`. Remember that `lights.air_time > 120` returns a column of boolean values that has `True` in place of those records in flights.air_time that are over 120, and `False` otherwise."
   ]
  },
  {
   "cell_type": "code",
   "execution_count": 58,
   "metadata": {},
   "outputs": [
    {
     "name": "stdout",
     "output_type": "stream",
     "text": [
      "+----+-----+---+--------+---------+--------+---------+-------+-------+------+------+----+--------+--------+----+------+------------------+\n",
      "|year|month|day|dep_time|dep_delay|arr_time|arr_delay|carrier|tailnum|flight|origin|dest|air_time|distance|hour|minute|      duration_hrs|\n",
      "+----+-----+---+--------+---------+--------+---------+-------+-------+------+------+----+--------+--------+----+------+------------------+\n",
      "|2014|    1| 22|  1040.0|      5.0|  1505.0|      5.0|     AS| N559AS|   851|   SEA| HNL|   360.0|    2677|10.0|  40.0|               6.0|\n",
      "|2014|    4| 19|  1236.0|     -4.0|  1508.0|     -7.0|     AS| N309AS|   490|   SEA| SAN|   135.0|    1050|12.0|  36.0|              2.25|\n",
      "|2014|   11| 19|  1812.0|     -3.0|  2352.0|     -4.0|     AS| N564AS|    26|   SEA| ORD|   198.0|    1721|18.0|  12.0|               3.3|\n",
      "|2014|    8|  3|  1120.0|      0.0|  1415.0|      2.0|     AS| N305AS|   656|   SEA| PHX|   154.0|    1107|11.0|  20.0| 2.566666666666667|\n",
      "|2014|   11| 12|  2346.0|     -4.0|   217.0|    -28.0|     AS| N765AS|   121|   SEA| ANC|   183.0|    1448|23.0|  46.0|              3.05|\n",
      "|2014|    8| 11|  1017.0|     -3.0|  1613.0|     -7.0|     WN| N8634A|   827|   SEA| MDW|   216.0|    1733|10.0|  17.0|               3.6|\n",
      "|2014|    1| 13|  2156.0|     -9.0|   607.0|    -15.0|     AS| N597AS|    24|   SEA| BOS|   290.0|    2496|21.0|  56.0| 4.833333333333333|\n",
      "|2014|    9| 26|   610.0|     -5.0|  1523.0|     65.0|     US| N127UW|   616|   SEA| PHL|   293.0|    2378| 6.0|  10.0| 4.883333333333334|\n",
      "|2014|   12|  4|   954.0|     -6.0|  1348.0|    -17.0|     HA| N395HA|    29|   SEA| OGG|   333.0|    2640| 9.0|  54.0|              5.55|\n",
      "|2014|    6|  4|  1115.0|      0.0|  1346.0|     -3.0|     AS| N461AS|   488|   SEA| SAN|   133.0|    1050|11.0|  15.0| 2.216666666666667|\n",
      "|2014|    6| 26|  2054.0|     -1.0|  2318.0|     -6.0|     B6| N590JB|   907|   SEA| ANC|   179.0|    1448|20.0|  54.0|2.9833333333333334|\n",
      "|2014|    6|  7|  1823.0|     -7.0|  2112.0|    -28.0|     AS| N512AS|   815|   SEA| LIH|   335.0|    2701|18.0|  23.0| 5.583333333333333|\n",
      "|2014|    4| 30|   801.0|      1.0|  1757.0|     90.0|     AS| N407AS|    18|   SEA| MCO|   342.0|    2554| 8.0|   1.0|               5.7|\n",
      "|2014|   11| 29|   905.0|    155.0|  1655.0|    170.0|     DL| N824DN|  1598|   SEA| ATL|   229.0|    2182| 9.0|   5.0| 3.816666666666667|\n",
      "|2014|    6|  2|  2222.0|      7.0|    55.0|     15.0|     AS| N402AS|    99|   SEA| ANC|   190.0|    1448|22.0|  22.0|3.1666666666666665|\n",
      "|2014|   11| 15|  1034.0|     -6.0|  1414.0|    -26.0|     AS| N589AS|   794|   SEA| ABQ|   139.0|    1180|10.0|  34.0| 2.316666666666667|\n",
      "|2014|   10| 20|  1328.0|     -1.0|  1949.0|      4.0|     UA| N68805|  1212|   SEA| IAH|   228.0|    1874|13.0|  28.0|               3.8|\n",
      "|2014|   12| 16|  1500.0|      0.0|  1906.0|     19.0|     US| N662AW|   500|   SEA| PHX|   151.0|    1107|15.0|   0.0|2.5166666666666666|\n",
      "|2014|   11| 19|  1319.0|     -6.0|  1821.0|    -14.0|     DL| N309US|  2164|   PDX| MSP|   169.0|    1426|13.0|  19.0| 2.816666666666667|\n",
      "|2014|    5| 21|   515.0|      0.0|   757.0|      0.0|     US| N172US|   593|   SEA| PHX|   143.0|    1107| 5.0|  15.0|2.3833333333333333|\n",
      "+----+-----+---+--------+---------+--------+---------+-------+-------+------+------+----+--------+--------+----+------+------------------+\n",
      "only showing top 20 rows\n",
      "\n",
      "+----+-----+---+--------+---------+--------+---------+-------+-------+------+------+----+--------+--------+----+------+------------------+\n",
      "|year|month|day|dep_time|dep_delay|arr_time|arr_delay|carrier|tailnum|flight|origin|dest|air_time|distance|hour|minute|      duration_hrs|\n",
      "+----+-----+---+--------+---------+--------+---------+-------+-------+------+------+----+--------+--------+----+------+------------------+\n",
      "|2014|    1| 22|  1040.0|      5.0|  1505.0|      5.0|     AS| N559AS|   851|   SEA| HNL|   360.0|    2677|10.0|  40.0|               6.0|\n",
      "|2014|    4| 19|  1236.0|     -4.0|  1508.0|     -7.0|     AS| N309AS|   490|   SEA| SAN|   135.0|    1050|12.0|  36.0|              2.25|\n",
      "|2014|   11| 19|  1812.0|     -3.0|  2352.0|     -4.0|     AS| N564AS|    26|   SEA| ORD|   198.0|    1721|18.0|  12.0|               3.3|\n",
      "|2014|    8|  3|  1120.0|      0.0|  1415.0|      2.0|     AS| N305AS|   656|   SEA| PHX|   154.0|    1107|11.0|  20.0| 2.566666666666667|\n",
      "|2014|   11| 12|  2346.0|     -4.0|   217.0|    -28.0|     AS| N765AS|   121|   SEA| ANC|   183.0|    1448|23.0|  46.0|              3.05|\n",
      "|2014|    8| 11|  1017.0|     -3.0|  1613.0|     -7.0|     WN| N8634A|   827|   SEA| MDW|   216.0|    1733|10.0|  17.0|               3.6|\n",
      "|2014|    1| 13|  2156.0|     -9.0|   607.0|    -15.0|     AS| N597AS|    24|   SEA| BOS|   290.0|    2496|21.0|  56.0| 4.833333333333333|\n",
      "|2014|    9| 26|   610.0|     -5.0|  1523.0|     65.0|     US| N127UW|   616|   SEA| PHL|   293.0|    2378| 6.0|  10.0| 4.883333333333334|\n",
      "|2014|   12|  4|   954.0|     -6.0|  1348.0|    -17.0|     HA| N395HA|    29|   SEA| OGG|   333.0|    2640| 9.0|  54.0|              5.55|\n",
      "|2014|    6|  4|  1115.0|      0.0|  1346.0|     -3.0|     AS| N461AS|   488|   SEA| SAN|   133.0|    1050|11.0|  15.0| 2.216666666666667|\n",
      "|2014|    6| 26|  2054.0|     -1.0|  2318.0|     -6.0|     B6| N590JB|   907|   SEA| ANC|   179.0|    1448|20.0|  54.0|2.9833333333333334|\n",
      "|2014|    6|  7|  1823.0|     -7.0|  2112.0|    -28.0|     AS| N512AS|   815|   SEA| LIH|   335.0|    2701|18.0|  23.0| 5.583333333333333|\n",
      "|2014|    4| 30|   801.0|      1.0|  1757.0|     90.0|     AS| N407AS|    18|   SEA| MCO|   342.0|    2554| 8.0|   1.0|               5.7|\n",
      "|2014|   11| 29|   905.0|    155.0|  1655.0|    170.0|     DL| N824DN|  1598|   SEA| ATL|   229.0|    2182| 9.0|   5.0| 3.816666666666667|\n",
      "|2014|    6|  2|  2222.0|      7.0|    55.0|     15.0|     AS| N402AS|    99|   SEA| ANC|   190.0|    1448|22.0|  22.0|3.1666666666666665|\n",
      "|2014|   11| 15|  1034.0|     -6.0|  1414.0|    -26.0|     AS| N589AS|   794|   SEA| ABQ|   139.0|    1180|10.0|  34.0| 2.316666666666667|\n",
      "|2014|   10| 20|  1328.0|     -1.0|  1949.0|      4.0|     UA| N68805|  1212|   SEA| IAH|   228.0|    1874|13.0|  28.0|               3.8|\n",
      "|2014|   12| 16|  1500.0|      0.0|  1906.0|     19.0|     US| N662AW|   500|   SEA| PHX|   151.0|    1107|15.0|   0.0|2.5166666666666666|\n",
      "|2014|   11| 19|  1319.0|     -6.0|  1821.0|    -14.0|     DL| N309US|  2164|   PDX| MSP|   169.0|    1426|13.0|  19.0| 2.816666666666667|\n",
      "|2014|    5| 21|   515.0|      0.0|   757.0|      0.0|     US| N172US|   593|   SEA| PHX|   143.0|    1107| 5.0|  15.0|2.3833333333333333|\n",
      "+----+-----+---+--------+---------+--------+---------+-------+-------+------+------+----+--------+--------+----+------+------------------+\n",
      "only showing top 20 rows\n",
      "\n"
     ]
    }
   ],
   "source": [
    "# Filter flights by passing a string\n",
    "long_flights1 = flights.filter('distance>1000')\n",
    "\n",
    "# Filter flights by passing a column of boolean values\n",
    "long_flights2 = flights.filter(flights.distance>1000)\n",
    "\n",
    "# Print the data to check they're equal\n",
    "long_flights1.show()\n",
    "long_flights2.show()"
   ]
  },
  {
   "cell_type": "markdown",
   "metadata": {},
   "source": [
    "*PySpark often provides a few different ways to get the same results.*"
   ]
  },
  {
   "cell_type": "markdown",
   "metadata": {},
   "source": [
    "### Selecting\n",
    "The Spark variant of SQL's `SELECT` is the `.select()` method. This method takes multiple arguments - one for each column you want to select. These arguments can either be the column name as a string (one for each column) or a column object (using the `df.colName` syntax). When you pass a column object, you can perform operations like addition or subtraction on the column to change the data contained in it, much like inside `.withColumn()`.\n",
    "\n",
    "The difference between `.select()` and `.withColumn()` methods is that .select() returns only the columns you specify, while `.withColumn()` returns all the columns of the `DataFrame` in addition to the one you defined. It's often a good idea to drop columns you don't need at the beginning of an operation so that you're not dragging around extra data as you're wrangling. In this case, you would use `.select()` and not `.withColumn()`."
   ]
  },
  {
   "cell_type": "code",
   "execution_count": 59,
   "metadata": {},
   "outputs": [],
   "source": [
    "# Select the first set of columns\n",
    "selected1 = flights.select(\"tailnum\", \"origin\", \"dest\")\n",
    "\n",
    "# Select the second set of columns\n",
    "temp = flights.select(flights.origin, flights.dest, flights.carrier)\n",
    "\n",
    "# Define first filter\n",
    "filterA = flights.origin == \"SEA\"\n",
    "\n",
    "# Define second filter\n",
    "filterB = flights.dest == \"PDX\"\n",
    "\n",
    "# Filter the data, first by filterA then by filterB\n",
    "selected2 = temp.filter(filterA).filter(filterB)"
   ]
  },
  {
   "cell_type": "code",
   "execution_count": 60,
   "metadata": {},
   "outputs": [
    {
     "name": "stdout",
     "output_type": "stream",
     "text": [
      "+------+----+-------+\n",
      "|origin|dest|carrier|\n",
      "+------+----+-------+\n",
      "|   SEA| PDX|     OO|\n",
      "|   SEA| PDX|     OO|\n",
      "|   SEA| PDX|     OO|\n",
      "|   SEA| PDX|     OO|\n",
      "|   SEA| PDX|     OO|\n",
      "+------+----+-------+\n",
      "only showing top 5 rows\n",
      "\n"
     ]
    }
   ],
   "source": [
    "selected2.show(5)"
   ]
  },
  {
   "cell_type": "markdown",
   "metadata": {},
   "source": [
    "### Selecting II\n",
    "Similar to SQL, you can also use the `.select()` method to perform column-wise operations. When you're selecting a column using the `df.colName` notation, you can perform any column operation and the `.select()` method will return the transformed column. For example,\n",
    "\n",
    "```python\n",
    "flights.select(flights.air_time/60)\n",
    "```\n",
    "\n",
    "returns a column of flight durations in hours instead of minutes. You can also use the `.alias()` method to rename a column you're selecting. So if you wanted to `.select()` the column duration_hrs (which isn't in your DataFrame) you could do\n",
    "\n",
    "```python\n",
    "flights.select((flights.air_time/60).alias(\"duration_hrs\"))\n",
    "```\n",
    "\n",
    "The equivalent Spark DataFrame method `.selectExpr()` takes SQL expressions as a string:\n",
    "\n",
    "```python\n",
    "flights.selectExpr(\"air_time/60 as duration_hrs\")\n",
    "```\n",
    "\n",
    "with the SQL `as` keyword being equivalent to the `.alias()` method. To select multiple columns, you can pass multiple strings."
   ]
  },
  {
   "cell_type": "code",
   "execution_count": 61,
   "metadata": {
    "scrolled": false
   },
   "outputs": [
    {
     "name": "stdout",
     "output_type": "stream",
     "text": [
      "+------+----+-------+------------------+\n",
      "|origin|dest|tailnum|         avg_speed|\n",
      "+------+----+-------+------------------+\n",
      "|   SEA| LAX| N846VA| 433.6363636363636|\n",
      "|   SEA| HNL| N559AS| 446.1666666666667|\n",
      "|   SEA| SFO| N847VA|367.02702702702703|\n",
      "|   PDX| SJC| N360SW| 411.3253012048193|\n",
      "|   SEA| BUR| N612AS| 442.6771653543307|\n",
      "+------+----+-------+------------------+\n",
      "only showing top 5 rows\n",
      "\n",
      "+------+----+-------+------------------+\n",
      "|origin|dest|tailnum|         avg_speed|\n",
      "+------+----+-------+------------------+\n",
      "|   SEA| LAX| N846VA| 433.6363636363636|\n",
      "|   SEA| HNL| N559AS| 446.1666666666667|\n",
      "|   SEA| SFO| N847VA|367.02702702702703|\n",
      "|   PDX| SJC| N360SW| 411.3253012048193|\n",
      "|   SEA| BUR| N612AS| 442.6771653543307|\n",
      "+------+----+-------+------------------+\n",
      "only showing top 5 rows\n",
      "\n"
     ]
    }
   ],
   "source": [
    "# Define avg_speed\n",
    "avg_speed = (flights.distance/(flights.air_time/60)).alias(\"avg_speed\")\n",
    "\n",
    "# Select the correct columns\n",
    "speed1 = flights.select(\"origin\", \"dest\", \"tailnum\", avg_speed)\n",
    "\n",
    "# Create the same table using a SQL expression\n",
    "speed2 = flights.selectExpr(\"origin\", \"dest\", \"tailnum\", \"distance/(air_time/60) as avg_speed\")\n",
    "\n",
    "speed1.show(5)\n",
    "speed2.show(5)"
   ]
  },
  {
   "cell_type": "markdown",
   "metadata": {},
   "source": [
    "### Aggregating\n",
    "All of the common aggregation methods, like `.min()`, `.max()`, and `.count()` are `GroupedData` methods. These are created by calling the `.groupBy()` DataFrame method. You'll learn exactly what that means in a few exercises. For now, all you have to do to use these functions is call that method on your DataFrame. For example, to find the minimum value of a column, `col`, in a DataFrame, `df`, you could do\n",
    "\n",
    "```python\n",
    "df.groupBy().min(\"col\").show()\n",
    "```\n",
    "\n",
    "This creates a GroupedData object (so you can use the `.min()` method), then finds the minimum value in col, and returns it as a DataFrame."
   ]
  },
  {
   "cell_type": "code",
   "execution_count": 63,
   "metadata": {},
   "outputs": [
    {
     "name": "stdout",
     "output_type": "stream",
     "text": [
      "+-------------+\n",
      "|min(distance)|\n",
      "+-------------+\n",
      "|          106|\n",
      "+-------------+\n",
      "\n",
      "+-------------+\n",
      "|max(air_time)|\n",
      "+-------------+\n",
      "|        409.0|\n",
      "+-------------+\n",
      "\n"
     ]
    }
   ],
   "source": [
    "# Find the shortest flight from PDX in terms of distance\n",
    "flights.filter(\"origin=='PDX'\").groupBy().min('distance').show()\n",
    "\n",
    "# Find the longest flight from SEA in terms of air time\n",
    "flights.filter(flights.origin==\"SEA\").groupBy().max(\"air_time\").show()"
   ]
  },
  {
   "cell_type": "code",
   "execution_count": 64,
   "metadata": {},
   "outputs": [
    {
     "name": "stdout",
     "output_type": "stream",
     "text": [
      "+------+-------------+\n",
      "|origin|max(air_time)|\n",
      "+------+-------------+\n",
      "|   SEA|        409.0|\n",
      "|   PDX|        396.0|\n",
      "+------+-------------+\n",
      "\n"
     ]
    }
   ],
   "source": [
    "flights.groupBy(\"origin\").max(\"air_time\").show()"
   ]
  },
  {
   "cell_type": "markdown",
   "metadata": {},
   "source": [
    "### Aggregating II\n"
   ]
  },
  {
   "cell_type": "markdown",
   "metadata": {},
   "source": [
    "## Getting started with machine learning pipelines\n",
    "> PySpark has built-in, cutting-edge machine learning routines, along with utilities to create full machine learning pipelines. You'll learn about them in this chapter."
   ]
  },
  {
   "cell_type": "markdown",
   "metadata": {},
   "source": [
    "## Model tuning and selection\n",
    "> In this last chapter, you'll apply what you've learned to create a model that predicts which flights will be delayed."
   ]
  }
 ],
 "metadata": {
  "kernelspec": {
   "display_name": "Python 3",
   "language": "python",
   "name": "python3"
  },
  "language_info": {
   "codemirror_mode": {
    "name": "ipython",
    "version": 3
   },
   "file_extension": ".py",
   "mimetype": "text/x-python",
   "name": "python",
   "nbconvert_exporter": "python",
   "pygments_lexer": "ipython3",
   "version": "3.7.4"
  },
  "toc": {
   "base_numbering": 1,
   "nav_menu": {},
   "number_sections": true,
   "sideBar": true,
   "skip_h1_title": true,
   "title_cell": "Table of Contents",
   "title_sidebar": "Contents",
   "toc_cell": false,
   "toc_position": {
    "height": "calc(100% - 180px)",
    "left": "10px",
    "top": "150px",
    "width": "291.188px"
   },
   "toc_section_display": true,
   "toc_window_display": true
  }
 },
 "nbformat": 4,
 "nbformat_minor": 2
}
